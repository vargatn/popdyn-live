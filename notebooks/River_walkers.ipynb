{
 "cells": [
  {
   "cell_type": "code",
   "execution_count": 1,
   "id": "29e75b41",
   "metadata": {},
   "outputs": [],
   "source": [
    "import numpy as np\n",
    "import matplotlib.pyplot as plt\n",
    "%matplotlib inline\n",
    "import matplotlib as mpl\n",
    "import scipy.signal as signal\n",
    "import numba\n",
    "from numba import jit"
   ]
  },
  {
   "cell_type": "code",
   "execution_count": 2,
   "id": "83292bf0",
   "metadata": {},
   "outputs": [],
   "source": [
    "def extract_weightmap(im):\n",
    "    \"selects the non white part of the image\"\n",
    "    ww = np.zeros(shape=im.shape[:2])\n",
    "    ww[np.where(im.sum(axis=2) < 4.)] = 1.\n",
    "    return ww\n",
    "\n",
    "def invert_weightmap(ww):\n",
    "    return 1 - ww"
   ]
  },
  {
   "cell_type": "code",
   "execution_count": null,
   "id": "99bb5198",
   "metadata": {},
   "outputs": [],
   "source": []
  }
 ],
 "metadata": {
  "kernelspec": {
   "display_name": "Python 3 (ipykernel)",
   "language": "python",
   "name": "python3"
  },
  "language_info": {
   "codemirror_mode": {
    "name": "ipython",
    "version": 3
   },
   "file_extension": ".py",
   "mimetype": "text/x-python",
   "name": "python",
   "nbconvert_exporter": "python",
   "pygments_lexer": "ipython3",
   "version": "3.9.12"
  }
 },
 "nbformat": 4,
 "nbformat_minor": 5
}
