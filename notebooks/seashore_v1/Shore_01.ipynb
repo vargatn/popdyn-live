{
 "cells": [
  {
   "cell_type": "markdown",
   "id": "9849b45e",
   "metadata": {},
   "source": [
    "This notebook is aimed at modelling the non-linear water flow and sand formations on a beach.\n",
    "\n",
    "Features:\n",
    "  * water component with density and momentum (Water is incompressible, so it's a cell-wise momentum\n",
    "  * Incoming wave from sea\n",
    "  * Sand drag"
   ]
  },
  {
   "cell_type": "code",
   "execution_count": 1,
   "id": "4f6d5dcf",
   "metadata": {},
   "outputs": [],
   "source": [
    "import numpy as np\n",
    "import matplotlib.pyplot as plt\n",
    "%matplotlib inline\n",
    "# %matplotlib widget\n",
    "# %matplotlib notebook\n",
    "import matplotlib as mpl\n",
    "\n",
    "import scipy.signal as signal\n",
    "import scipy.ndimage as ndimage\n",
    "import numba\n",
    "from numba import jit, njit\n",
    "\n",
    "import copy\n",
    "from importlib import reload\n",
    "import matplotlib.animation as animation\n",
    "from IPython.display import HTML\n",
    "\n",
    "import skimage.transform as sktransform \n",
    "from skimage import color, morphology\n",
    "\n",
    "plt.rcParams[\"animation.html\"] = \"jshtml\"\n",
    "\n",
    "import pickle\n",
    "\n",
    "\n",
    "import popdyn.flow as flow"
   ]
  },
  {
   "cell_type": "markdown",
   "id": "4e25ad3c",
   "metadata": {},
   "source": [
    "# Create Shore box"
   ]
  },
  {
   "cell_type": "code",
   "execution_count": null,
   "id": "db525cbb",
   "metadata": {},
   "outputs": [],
   "source": [
    "np.random.seed(10)\n",
    "land = np.zeros((200, 200))\n",
    "# dists = distance_kernel(100)\n",
    "# plat += tophat(dists, scale=90, ) \n",
    "# plat /= plat.max()\n",
    "\n",
    "# \n",
    "# ndraw = 200\n",
    "# pos = np.random.uniform(low=0.1, high=0.9, size=ndraw*2).reshape(ndraw, 2)\n",
    "# std = np.random.uniform(low=200, high=300, size=ndraw)\n",
    "# nums = np.random.uniform(low=1, high=, size=ndraw)\n",
    "# nums = np.ones(ndraw) \n",
    "# std = np.ones(ndraw) * 300\n",
    "# samples = []\n",
    "# for i in np.arange(ndraw):\n",
    "#     print(pos[i])\n",
    "#     _sample = np.random.multivariate_normal(pos[i], cov=np.eye(2) / std[i], size=int(nums[i] * 5e3))\n",
    "#     samples.append(_sample)\n",
    "# samples = np.concatenate(samples)\n",
    "\n",
    "\n",
    "# bins = np.linspace(0, 1, 202)\n",
    "# bcens = bins[:-1] + np.diff(bins) / 2\n",
    "# land = np.histogram2d(samples[:, 0], samples[:, 1], bins=(bins, bins), density=True)[0]\n",
    "# \n",
    "# bulk = np.random.multivariate_normal((0.4, 0.4), cov=np.eye(2), size=int(1e7))    \n",
    "# bulk = np.histogram2d(bulk[:, 0], bulk[:, 1], bins=(bins, bins), density=True)[0]\n",
    "# \n",
    "# land += bulk\n",
    "# land *= 500\n",
    "# land += 1\n",
    "\n",
    "# land *= plat\n",
    "# land += 1\n",
    "# land = land**2.2\n",
    "\n",
    "land = convolve_map(land, 1, which=\"gauss\")\n",
    "land = land[1:-2, 1:-1]\n",
    "# land *= 400\n",
    "land = (land - land.min()) * 4000 / land.max() + 1\n",
    "\n",
    "\n",
    "\n",
    "\n",
    "\n"
   ]
  }
 ],
 "metadata": {
  "kernelspec": {
   "display_name": "Python 3 (ipykernel)",
   "language": "python",
   "name": "python3"
  },
  "language_info": {
   "codemirror_mode": {
    "name": "ipython",
    "version": 3
   },
   "file_extension": ".py",
   "mimetype": "text/x-python",
   "name": "python",
   "nbconvert_exporter": "python",
   "pygments_lexer": "ipython3",
   "version": "3.9.12"
  }
 },
 "nbformat": 4,
 "nbformat_minor": 5
}
