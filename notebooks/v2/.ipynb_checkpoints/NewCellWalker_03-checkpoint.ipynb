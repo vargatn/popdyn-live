{
 "cells": [
  {
   "cell_type": "code",
   "execution_count": 9,
   "id": "4b7e4894",
   "metadata": {},
   "outputs": [],
   "source": [
    "import numpy as np\n",
    "import matplotlib.pyplot as plt\n",
    "%matplotlib inline\n",
    "#%matplotlib notebook\n",
    "import matplotlib as mpl\n",
    "import scipy.signal as signal\n",
    "import numba\n",
    "from numba import jit\n",
    "import popdyn\n",
    "import popdyn.convolve as cv\n",
    "import copy\n",
    "from importlib import reload\n",
    "import matplotlib.animation as animation\n",
    "from IPython.display import HTML\n",
    "\n",
    "\n",
    "plt.rcParams[\"animation.html\"] = \"jshtml\""
   ]
  },
  {
   "cell_type": "code",
   "execution_count": 10,
   "id": "d9f1210b",
   "metadata": {},
   "outputs": [],
   "source": [
    "def pad(canvases):\n",
    "    \"\"\"padsfor each canvas pad the 2d array\"\"\"\n",
    "    keys = canvases.keys()\n",
    "    padded_canvases = {}\n",
    "    for key in keys:\n",
    "        arr = canvases[key]\n",
    "        arr = np.pad(arr, pad_width=1, mode=\"edge\")\n",
    "        padded_canvases.update({key: arr})\n",
    "    return padded_canvases\n",
    "\n",
    "class CellSpace(object):\n",
    "    def __init__(self, initial_maps, rules):\n",
    "        \"\"\"\n",
    "        Cell automata, considers the direct neighbor cells only\n",
    "        \n",
    "        Initialize with a dict of initial maps in the style\n",
    "        \n",
    "        initial_maps = {\n",
    "            \"layer_name\": initial map,\n",
    "        }\n",
    "        \n",
    "        The rules are a similar dictionary of class instances which will be passed \n",
    "        \n",
    "        \n",
    "        \"\"\"\n",
    "        self.canvases = copy.deepcopy(initial_maps)\n",
    "        self.layers = list(initial_maps.keys())\n",
    "        self.padded_canvases = pad(self.canvases)\n",
    "\n",
    "        self.shape_canvas = self.canvases[self.layers[0]].shape\n",
    "        self.shape_canvas_padded = self.padded_canvases[self.layers[0]].shape\n",
    "    \n",
    "        self.imap = np.arange(len(self.canvases[self.layers[0]].flatten())).reshape(self.shape_canvas)\n",
    "        self.imap_padded = np.arange(len(self.padded_canvases[self.layers[0]].flatten())).reshape(self.shape_canvas_padded)\n",
    "        self.imap_center = center_cut(self.imap_padded)\n",
    "        self.imap_shifted = [center_cut(tmp) for tmp in calc_shifted(self.imap_padded)]\n",
    "        self.imap_unshifted = [\n",
    "            self.imap_shifted[1],\n",
    "            self.imap_shifted[0],\n",
    "            self.imap_shifted[3],\n",
    "            self.imap_shifted[2],\n",
    "        ]\n",
    "        \n",
    "        self.shifted_canvases = self.shift()\n",
    "        self.rules = rules\n",
    "        \n",
    "        self.maps = {}\n",
    "        self.reset_maps()\n",
    "            \n",
    "    def update_maps(self):\n",
    "        for key in self.layers:\n",
    "            self.maps[key].append(self.canvases[key].copy())\n",
    "            \n",
    "    def reset_maps(self):\n",
    "        self.maps = {}\n",
    "        for key in self.layers:\n",
    "#             dd = {key: [self.canvases[key],]}\n",
    "            dd = {key: []}\n",
    "            self.maps.update(dd)            \n",
    "       \n",
    "    def shift(self):\n",
    "        shifted_canvases = {}\n",
    "        for key in self.canvases.keys():\n",
    "            arr = np.array([self.padded_canvases[key].flat[ii] for ii in self.imap_shifted])\n",
    "            shifted_canvases.update({key: arr})\n",
    "        return shifted_canvases\n",
    "            \n",
    "            \n",
    "    def step(self):\n",
    "        \n",
    "        new_canvases = {}\n",
    "        for key in self.layers:\n",
    "            rl = self.rules[key]\n",
    "            canvas = rl.evolve(self)\n",
    "            new_canvases.update(canvas)\n",
    "            \n",
    "        self.canvases = new_canvases\n",
    "        self.padded_canvases = pad(self.canvases)\n",
    "        self.shifted_canvases = self.shift()\n",
    "\n",
    "\n",
    "    def flow(self, nstep=100):\n",
    "        \"\"\"\n",
    "        a series of steps\n",
    "        \"\"\"\n",
    "        self.reset_maps()\n",
    "        self.update_maps()\n",
    "        for i in np.arange(nstep):\n",
    "            print(str(i) + ' out of ' + str(nstep-1), end=\"\\r\")\n",
    "            self.step()\n",
    "            self.update_maps()"
   ]
  },
  {
   "cell_type": "code",
   "execution_count": 50,
   "id": "a083d962",
   "metadata": {},
   "outputs": [],
   "source": [
    "class FlowRule(object):\n",
    "    def __init__(self, flow_factor=0.5):\n",
    "        \"\"\"\n",
    "        The way this automata is set up is with a walled boundary condition, matter can flow to the edges, but not out of it\n",
    "        Therefore matter is conserved in the canvas. That's good\n",
    "        \n",
    "        An erosion factor of 1 makes a really unstable checkerboard behaviour, use smaller values for a balanced behaviour,\n",
    "        \"\"\"\n",
    "        self.layers = np.sort((\"terrain\",))\n",
    "        self.key = \"terrain\"\n",
    "#         self.needed_keys [\"terrain\",]\n",
    "        if flow_factor >= 1:\n",
    "            raise ValueError(\"flow_factor must be less than 1, current value is {:.3f}\".format(flow_factor))\n",
    "        self.flow_factor = flow_factor\n",
    "        \n",
    "    def evolve(self, cell):\n",
    "        height_local = cell.canvases[self.key]\n",
    "        height_shifted = cell.shifted_canvases[self.key]\n",
    "        \n",
    "        diffs = height_local - height_shifted\n",
    "        diffs[diffs < 0] = 0\n",
    "        \n",
    "        fractions = np.nan_to_num(diffs / diffs.sum(axis=0))\n",
    "        outflow = diffs * fractions * self.flow_factor # this is the outgoing amount\n",
    "#         print(outflow)\n",
    "        height_local = self.calc_flows(height_local, outflow, cell)\n",
    "        resdict = cell.canvases\n",
    "        resdict.update({self.key: height_local})\n",
    "        return resdict\n",
    "\n",
    "    def calc_flows(self, vmap, outflow, cell):\n",
    "        vmap -= outflow.sum(axis=0)\n",
    "        shifted_landslide = [] \n",
    "        for i, ii in enumerate(cell.imap_unshifted):\n",
    "            # the padding here is what restricts the landslide to the frozen boundary condition\n",
    "            tmp = np.pad(outflow[i], pad_width=1, mode=\"constant\", constant_values=0)\n",
    "            tmp = tmp.flat[ii]\n",
    "            shifted_landslide.append(tmp)\n",
    "        shifted_landslide = np.array(shifted_landslide)\n",
    "        vmap += shifted_landslide.sum(axis=0)        \n",
    "        return vmap\n",
    "         \n",
    "\n",
    "class Landslide(FlowRule):\n",
    "    \n",
    "    def evolve(self, cell):\n",
    "        height_local = cell.canvases[self.key]\n",
    "        height_shifted = cell.shifted_canvases[self.key]\n",
    "        \n",
    "        diffs = height_local - height_shifted\n",
    "        diffs[diffs < 0] = 0\n",
    "        \n",
    "        fractions = np.nan_to_num(diffs / diffs.sum(axis=0))\n",
    "        outflow = diffs * fractions * self.flow_factor # this is the outgoing amount\n",
    "        \n",
    "        height_local = self.calc_flows(cell, height_local, outflow)\n",
    "        \n",
    "        resdict = cell.canvases\n",
    "        resdict.update({self.key: height_local})\n",
    "        return resdict\n",
    "        \n",
    "    \n",
    "class WaterFlow(FlowRule):\n",
    "    def __init__(self, wflow_rate=0.9, lflow_rate=0.1):\n",
    "        \"\"\"\n",
    "        This is a two component erosion model where water flows fast, and drags a fraction of the land with it\n",
    "        \n",
    "        wflow_rate is the water flaw per time step\n",
    "        lflow rate is the land coerosion per time step, this should be much smaller than the water flow rate\n",
    "        \n",
    "        The local gradient step is determined by the total land plus water height,\n",
    "        and each component is dragged separately\n",
    "        \n",
    "        \"\"\"\n",
    "        self.layers = np.sort((\"water\", \"terrain\"))\n",
    "        self.wkey = \"water\"\n",
    "        self.lkey = \"terrain\"\n",
    "        self.water_flow_rate = water_flow_rate\n",
    "        self.land_coerosion_rate = land_coerosion_rate\n",
    "                \n",
    "    def evolve(self, cell):\n",
    "        # these are the only canvases we are going to care about at all\n",
    "        height_local = cell.canvases[self.lkey]\n",
    "        height_shifted = cell.shifted_canvases[self.lkey]\n",
    "        water_local = cell.canvases[self.wkey]\n",
    "        water_shifted = cell.shifted_canvases[self.wkey]\n",
    "        \n",
    "        diffs = (height_local + water_local) - (height_shifted + water_shifted)\n",
    "        \n",
    "        diffs = height_local - height_shifted\n",
    "        diffs[diffs < 0] = 0      \n",
    "        fractions = np.nan_to_num(diffs / diffs.sum(axis=0))\n",
    "        \n",
    "        outflow_w = diffs * fractions * self.water_flow_rate\n",
    "        outflow_l = diffs * fractions * self.land_flow_rate\n",
    "    \n",
    "        water_local = self.calc_flows(height_local, outflow_l, cell)\n",
    "        height_local = self.calc_flows(height_local, outflow_l, cell)\n",
    "\n",
    "        resdict = cell.canvases\n",
    "        resdict.update({self.wkey: water_local, self.lkey: height_local})\n",
    "        return resdict        \n",
    "        \n",
    "class RainFall(FlowRule):\n",
    "    def __init__(self, net_rainfall=0.5):\n",
    "        \"\"\"\n",
    "        This is adds new rain water to the water canvas\n",
    "        \n",
    "        Perhaps later this will be a non uniform rainfall pattern, once heat and cold is introduced to \n",
    "        account for evaporation\n",
    "        \"\"\"\n",
    "        self.layers = np.sort((\"water\",))\n",
    "        self.key = \"water\"\n",
    "               \n",
    "        self.net_rainfall = net_rainfall\n",
    "        \n",
    "    def evolve(self,  cell):\n",
    "        water_local = cell.canvases[self.wkey]\n",
    "        \n",
    "        rainfall = np.ones(shape=water_local.shape) * self.flow_rate\n",
    "        water_local += rainfall\n",
    "        \n",
    "        resdict = cell.canvases\n",
    "        resdict.update({self.key: water_local})\n",
    "        return resdict               \n",
    "        \n",
    "        "
   ]
  },
  {
   "cell_type": "code",
   "execution_count": 51,
   "id": "f1aaf68f",
   "metadata": {},
   "outputs": [],
   "source": [
    "tmap = np.zeros((5, 5))\n",
    "tmap[1, 1] = 100\n",
    "\n",
    "wmap = np.zeros((5, 5))\n",
    "\n",
    "initial_maps = {\n",
    "    \"terrain\": tmap,\n",
    "}\n",
    "rules = {\n",
    "    \"terrain\": FlowRule(flow_factor=0.5),\n",
    "#     \"terrain\": FlowRule(flow_factor=0.5)\n",
    "}\n",
    "key = \"terrain\""
   ]
  },
  {
   "cell_type": "code",
   "execution_count": 52,
   "id": "b030eaf2",
   "metadata": {},
   "outputs": [
    {
     "name": "stdout",
     "output_type": "stream",
     "text": [
      "0 out of 199\r",
      "1 out of 199\r",
      "2 out of 199\r",
      "3 out of 199\r",
      "4 out of 199\r",
      "5 out of 199\r",
      "6 out of 199\r",
      "7 out of 199\r",
      "8 out of 199\r",
      "9 out of 199\r",
      "10 out of 199\r",
      "11 out of 199\r",
      "12 out of 199\r",
      "13 out of 199\r",
      "14 out of 199\r",
      "15 out of 199\r",
      "16 out of 199\r",
      "17 out of 199\r",
      "18 out of 199\r",
      "19 out of 199\r",
      "20 out of 199\r",
      "21 out of 199\r",
      "22 out of 199\r",
      "23 out of 199\r",
      "24 out of 199\r",
      "25 out of 199\r",
      "26 out of 199\r",
      "27 out of 199\r",
      "28 out of 199\r",
      "29 out of 199\r",
      "30 out of 199\r",
      "31 out of 199\r",
      "32 out of 199\r",
      "33 out of 199\r",
      "34 out of 199\r",
      "35 out of 199\r",
      "36 out of 199\r",
      "37 out of 199\r",
      "38 out of 199\r",
      "39 out of 199\r",
      "40 out of 199\r",
      "41 out of 199\r",
      "42 out of 199\r",
      "43 out of 199\r",
      "44 out of 199\r",
      "45 out of 199\r",
      "46 out of 199\r",
      "47 out of 199\r",
      "48 out of 199\r",
      "49 out of 199\r",
      "50 out of 199\r",
      "51 out of 199\r",
      "52 out of 199\r",
      "53 out of 199\r",
      "54 out of 199\r",
      "55 out of 199\r",
      "56 out of 199\r",
      "57 out of 199\r",
      "58 out of 199\r",
      "59 out of 199\r",
      "60 out of 199\r",
      "61 out of 199\r",
      "62 out of 199\r",
      "63 out of 199\r",
      "64 out of 199\r",
      "65 out of 199\r",
      "66 out of 199\r",
      "67 out of 199\r",
      "68 out of 199\r",
      "69 out of 199\r",
      "70 out of 199\r",
      "71 out of 199\r",
      "72 out of 199\r",
      "73 out of 199\r",
      "74 out of 199\r",
      "75 out of 199\r",
      "76 out of 199\r",
      "77 out of 199\r",
      "78 out of 199\r",
      "79 out of 199\r",
      "80 out of 199\r",
      "81 out of 199\r",
      "82 out of 199\r",
      "83 out of 199\r",
      "84 out of 199\r",
      "85 out of 199\r",
      "86 out of 199\r",
      "87 out of 199\r",
      "88 out of 199\r",
      "89 out of 199\r",
      "90 out of 199\r",
      "91 out of 199\r",
      "92 out of 199\r",
      "93 out of 199\r",
      "94 out of 199\r",
      "95 out of 199\r",
      "96 out of 199\r",
      "97 out of 199\r",
      "98 out of 199\r",
      "99 out of 199\r",
      "100 out of 199\r",
      "101 out of 199\r",
      "102 out of 199\r",
      "103 out of 199\r",
      "104 out of 199\r",
      "105 out of 199\r",
      "106 out of 199\r",
      "107 out of 199\r",
      "108 out of 199\r",
      "109 out of 199\r",
      "110 out of 199\r",
      "111 out of 199\r",
      "112 out of 199\r",
      "113 out of 199\r",
      "114 out of 199\r",
      "115 out of 199\r",
      "116 out of 199\r",
      "117 out of 199\r",
      "118 out of 199\r",
      "119 out of 199\r",
      "120 out of 199\r",
      "121 out of 199\r",
      "122 out of 199\r",
      "123 out of 199\r",
      "124 out of 199\r",
      "125 out of 199\r",
      "126 out of 199\r",
      "127 out of 199\r",
      "128 out of 199\r",
      "129 out of 199\r",
      "130 out of 199\r",
      "131 out of 199\r",
      "132 out of 199\r",
      "133 out of 199\r",
      "134 out of 199\r",
      "135 out of 199\r",
      "136 out of 199\r",
      "137 out of 199\r",
      "138 out of 199\r",
      "139 out of 199\r",
      "140 out of 199\r",
      "141 out of 199\r",
      "142 out of 199\r",
      "143 out of 199\r",
      "144 out of 199\r",
      "145 out of 199\r",
      "146 out of 199\r",
      "147 out of 199\r",
      "148 out of 199\r",
      "149 out of 199\r",
      "150 out of 199\r",
      "151 out of 199\r",
      "152 out of 199\r",
      "153 out of 199\r",
      "154 out of 199\r",
      "155 out of 199\r",
      "156 out of 199\r",
      "157 out of 199\r",
      "158 out of 199\r",
      "159 out of 199\r",
      "160 out of 199\r",
      "161 out of 199\r",
      "162 out of 199\r",
      "163 out of 199\r",
      "164 out of 199\r",
      "165 out of 199\r",
      "166 out of 199\r",
      "167 out of 199\r",
      "168 out of 199\r",
      "169 out of 199\r",
      "170 out of 199\r",
      "171 out of 199\r",
      "172 out of 199\r",
      "173 out of 199\r",
      "174 out of 199\r",
      "175 out of 199\r",
      "176 out of 199\r",
      "177 out of 199\r",
      "178 out of 199\r",
      "179 out of 199\r",
      "180 out of 199\r",
      "181 out of 199\r",
      "182 out of 199\r",
      "183 out of 199\r",
      "184 out of 199\r",
      "185 out of 199\r",
      "186 out of 199\r",
      "187 out of 199\r",
      "188 out of 199\r",
      "189 out of 199\r",
      "190 out of 199\r",
      "191 out of 199\r",
      "192 out of 199\r",
      "193 out of 199\r",
      "194 out of 199\r",
      "195 out of 199\r",
      "196 out of 199\r",
      "197 out of 199\r",
      "198 out of 199\r",
      "199 out of 199\r"
     ]
    },
    {
     "name": "stderr",
     "output_type": "stream",
     "text": [
      "/tmp/ipykernel_4971/3924447606.py:23: RuntimeWarning: invalid value encountered in true_divide\n",
      "  fractions = np.nan_to_num(diffs / diffs.sum(axis=0))\n"
     ]
    }
   ],
   "source": [
    "cs = CellSpace(initial_maps, rules)\n",
    "cs.flow(200)"
   ]
  },
  {
   "cell_type": "code",
   "execution_count": 53,
   "id": "d2cbc2c8",
   "metadata": {
    "scrolled": false
   },
   "outputs": [
    {
     "name": "stderr",
     "output_type": "stream",
     "text": [
      "/tmp/ipykernel_4971/916744141.py:2: RuntimeWarning: More than 20 figures have been opened. Figures created through the pyplot interface (`matplotlib.pyplot.figure`) are retained until explicitly closed and may consume too much memory. (To control this warning, see the rcParam `figure.max_open_warning`).\n",
      "  fig =plt.figure()\n"
     ]
    },
    {
     "data": {
      "image/png": "[encoded data removed]",
      "text/plain": [
       "<Figure size 432x288 with 1 Axes>"
      ]
     },
     "metadata": {
      "needs_background": "light"
     },
     "output_type": "display_data"
    },
    {
     "data": {
      "image/png": "[encoded data removed]",
      "text/plain": [
       "<Figure size 432x288 with 1 Axes>"
      ]
     },
     "metadata": {
      "needs_background": "light"
     },
     "output_type": "display_data"
    },
    {
     "data": {
      "image/png": "[encoded data removed]",
      "text/plain": [
       "<Figure size 432x288 with 1 Axes>"
      ]
     },
     "metadata": {
      "needs_background": "light"
     },
     "output_type": "display_data"
    },
    {
     "data": {
      "image/png": "[encoded data removed]",
      "text/plain": [
       "<Figure size 432x288 with 1 Axes>"
      ]
     },
     "metadata": {
      "needs_background": "light"
     },
     "output_type": "display_data"
    },
    {
     "data": {
      "image/png": "[encoded data removed]",
      "text/plain": [
       "<Figure size 432x288 with 1 Axes>"
      ]
     },
     "metadata": {
      "needs_background": "light"
     },
     "output_type": "display_data"
    },
    {
     "data": {
      "image/png": "[encoded data removed]",
      "text/plain": [
       "<Figure size 432x288 with 1 Axes>"
      ]
     },
     "metadata": {
      "needs_background": "light"
     },
     "output_type": "display_data"
    },
    {
     "data": {
      "image/png": "[encoded data removed]",
      "text/plain": [
       "<Figure size 432x288 with 1 Axes>"
      ]
     },
     "metadata": {
      "needs_background": "light"
     },
     "output_type": "display_data"
    },
    {
     "data": {
      "image/png": "[encoded data removed]",
      "text/plain": [
       "<Figure size 432x288 with 1 Axes>"
      ]
     },
     "metadata": {
      "needs_background": "light"
     },
     "output_type": "display_data"
    },
    {
     "data": {
      "image/png": "[encoded data removed]",
      "text/plain": [
       "<Figure size 432x288 with 1 Axes>"
      ]
     },
     "metadata": {
      "needs_background": "light"
     },
     "output_type": "display_data"
    },
    {
     "data": {
      "image/png": "[encoded data removed]",
      "text/plain": [
       "<Figure size 432x288 with 1 Axes>"
      ]
     },
     "metadata": {
      "needs_background": "light"
     },
     "output_type": "display_data"
    },
    {
     "data": {
      "image/png": "[encoded data removed]",
      "text/plain": [
       "<Figure size 432x288 with 1 Axes>"
      ]
     },
     "metadata": {
      "needs_background": "light"
     },
     "output_type": "display_data"
    },
    {
     "data": {
      "image/png": "[encoded data removed]",
      "text/plain": [
       "<Figure size 432x288 with 1 Axes>"
      ]
     },
     "metadata": {
      "needs_background": "light"
     },
     "output_type": "display_data"
    },
    {
     "data": {
      "image/png": "[encoded data removed]",
      "text/plain": [
       "<Figure size 432x288 with 1 Axes>"
      ]
     },
     "metadata": {
      "needs_background": "light"
     },
     "output_type": "display_data"
    },
    {
     "data": {
      "image/png": "[encoded data removed]",
      "text/plain": [
       "<Figure size 432x288 with 1 Axes>"
      ]
     },
     "metadata": {
      "needs_background": "light"
     },
     "output_type": "display_data"
    },
    {
     "data": {
      "image/png": "[encoded data removed]",
      "text/plain": [
       "<Figure size 432x288 with 1 Axes>"
      ]
     },
     "metadata": {
      "needs_background": "light"
     },
     "output_type": "display_data"
    },
    {
     "data": {
      "image/png": "[encoded data removed]",
      "text/plain": [
       "<Figure size 432x288 with 1 Axes>"
      ]
     },
     "metadata": {
      "needs_background": "light"
     },
     "output_type": "display_data"
    },
    {
     "data": {
      "image/png": "[encoded data removed]",
      "text/plain": [
       "<Figure size 432x288 with 1 Axes>"
      ]
     },
     "metadata": {
      "needs_background": "light"
     },
     "output_type": "display_data"
    },
    {
     "data": {
      "image/png": "[encoded data removed]",
      "text/plain": [
       "<Figure size 432x288 with 1 Axes>"
      ]
     },
     "metadata": {
      "needs_background": "light"
     },
     "output_type": "display_data"
    },
    {
     "data": {
      "image/png": "[encoded data removed]",
      "text/plain": [
       "<Figure size 432x288 with 1 Axes>"
      ]
     },
     "metadata": {
      "needs_background": "light"
     },
     "output_type": "display_data"
    },
    {
     "data": {
      "image/png": "[encoded data removed]",
      "text/plain": [
       "<Figure size 432x288 with 1 Axes>"
      ]
     },
     "metadata": {
      "needs_background": "light"
     },
     "output_type": "display_data"
    },
    {
     "data": {
      "image/png": "[encoded data removed]",
      "text/plain": [
       "<Figure size 432x288 with 1 Axes>"
      ]
     },
     "metadata": {
      "needs_background": "light"
     },
     "output_type": "display_data"
    },
    {
     "data": {
      "image/png": "[encoded data removed]",
      "text/plain": [
       "<Figure size 432x288 with 1 Axes>"
      ]
     },
     "metadata": {
      "needs_background": "light"
     },
     "output_type": "display_data"
    },
    {
     "data": {
      "image/png": "[encoded data removed]",
      "text/plain": [
       "<Figure size 432x288 with 1 Axes>"
      ]
     },
     "metadata": {
      "needs_background": "light"
     },
     "output_type": "display_data"
    },
    {
     "data": {
      "image/png": "[encoded data removed]",
      "text/plain": [
       "<Figure size 432x288 with 1 Axes>"
      ]
     },
     "metadata": {
      "needs_background": "light"
     },
     "output_type": "display_data"
    },
    {
     "data": {
      "image/png": "[encoded data removed]",
      "text/plain": [
       "<Figure size 432x288 with 1 Axes>"
      ]
     },
     "metadata": {
      "needs_background": "light"
     },
     "output_type": "display_data"
    },
    {
     "data": {
      "image/png": "[encoded data removed]",
      "text/plain": [
       "<Figure size 432x288 with 1 Axes>"
      ]
     },
     "metadata": {
      "needs_background": "light"
     },
     "output_type": "display_data"
    },
    {
     "data": {
      "image/png": "[encoded data removed]",
      "text/plain": [
       "<Figure size 432x288 with 1 Axes>"
      ]
     },
     "metadata": {
      "needs_background": "light"
     },
     "output_type": "display_data"
    },
    {
     "data": {
      "image/png": "[encoded data removed]",
      "text/plain": [
       "<Figure size 432x288 with 1 Axes>"
      ]
     },
     "metadata": {
      "needs_background": "light"
     },
     "output_type": "display_data"
    },
    {
     "data": {
      "image/png": "[encoded data removed]",
      "text/plain": [
       "<Figure size 432x288 with 1 Axes>"
      ]
     },
     "metadata": {
      "needs_background": "light"
     },
     "output_type": "display_data"
    },
    {
     "data": {
      "image/png": "[encoded data removed]",
      "text/plain": [
       "<Figure size 432x288 with 1 Axes>"
      ]
     },
     "metadata": {
      "needs_background": "light"
     },
     "output_type": "display_data"
    },
    {
     "data": {
      "image/png": "[encoded data removed]",
      "text/plain": [
       "<Figure size 432x288 with 1 Axes>"
      ]
     },
     "metadata": {
      "needs_background": "light"
     },
     "output_type": "display_data"
    },
    {
     "data": {
      "image/png": "[encoded data removed]",
      "text/plain": [
       "<Figure size 432x288 with 1 Axes>"
      ]
     },
     "metadata": {
      "needs_background": "light"
     },
     "output_type": "display_data"
    },
    {
     "data": {
      "image/png": "[encoded data removed]",
      "text/plain": [
       "<Figure size 432x288 with 1 Axes>"
      ]
     },
     "metadata": {
      "needs_background": "light"
     },
     "output_type": "display_data"
    },
    {
     "data": {
      "image/png": "[encoded data removed]",
      "text/plain": [
       "<Figure size 432x288 with 1 Axes>"
      ]
     },
     "metadata": {
      "needs_background": "light"
     },
     "output_type": "display_data"
    },
    {
     "data": {
      "image/png": "[encoded data removed]",
      "text/plain": [
       "<Figure size 432x288 with 1 Axes>"
      ]
     },
     "metadata": {
      "needs_background": "light"
     },
     "output_type": "display_data"
    },
    {
     "data": {
      "image/png": "[encoded data removed]",
      "text/plain": [
       "<Figure size 432x288 with 1 Axes>"
      ]
     },
     "metadata": {
      "needs_background": "light"
     },
     "output_type": "display_data"
    },
    {
     "data": {
      "image/png": "[encoded data removed]",
      "text/plain": [
       "<Figure size 432x288 with 1 Axes>"
      ]
     },
     "metadata": {
      "needs_background": "light"
     },
     "output_type": "display_data"
    },
    {
     "data": {
      "image/png": "[encoded data removed]",
      "text/plain": [
       "<Figure size 432x288 with 1 Axes>"
      ]
     },
     "metadata": {
      "needs_background": "light"
     },
     "output_type": "display_data"
    },
    {
     "data": {
      "image/png": "[encoded data removed]",
      "text/plain": [
       "<Figure size 432x288 with 1 Axes>"
      ]
     },
     "metadata": {
      "needs_background": "light"
     },
     "output_type": "display_data"
    },
    {
     "data": {
      "image/png": "[encoded data removed]",
      "text/plain": [
       "<Figure size 432x288 with 1 Axes>"
      ]
     },
     "metadata": {
      "needs_background": "light"
     },
     "output_type": "display_data"
    }
   ],
   "source": [
    "for i in np.arange(40):\n",
    "    fig =plt.figure()\n",
    "    ax = fig.add_subplot(111)\n",
    "    ax.imshow(cs.maps[\"terrain\"][i], cmap=\"terrain\", vmin=0, vmax=5)"
   ]
  },
  {
   "cell_type": "code",
   "execution_count": null,
   "id": "ed2f45f6",
   "metadata": {},
   "outputs": [],
   "source": []
  }
 ],
 "metadata": {
  "kernelspec": {
   "display_name": "Python 3 (ipykernel)",
   "language": "python",
   "name": "python3"
  },
  "language_info": {
   "codemirror_mode": {
    "name": "ipython",
    "version": 3
   },
   "file_extension": ".py",
   "mimetype": "text/x-python",
   "name": "python",
   "nbconvert_exporter": "python",
   "pygments_lexer": "ipython3",
   "version": "3.9.12"
  }
 },
 "nbformat": 4,
 "nbformat_minor": 5
}
